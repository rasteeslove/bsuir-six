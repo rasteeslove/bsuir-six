{
 "cells": [
  {
   "cell_type": "markdown",
   "metadata": {},
   "source": [
    "# Симплекс метод"
   ]
  },
  {
   "cell_type": "code",
   "execution_count": 1,
   "metadata": {},
   "outputs": [],
   "source": [
    "import numpy as np\n",
    "from symplexmethod import symplex, main, initial\n",
    "\n",
    "ROUND_DEC_POINTS = 6 # for rounding"
   ]
  },
  {
   "cell_type": "code",
   "execution_count": 2,
   "metadata": {},
   "outputs": [],
   "source": [
    "# the first example\n",
    "c0 = np.array([1, 1, 0, 0, 0])\n",
    "A0 = np.array([[-1, 1, 1, 0, 0],\n",
    "              [1, 0, 0, 1, 0],\n",
    "              [0, 1, 0, 0, 1]])\n",
    "b0 = np.array([1, 3, 2])\n",
    "x0 = np.array([0, 0, 1, 3, 2])\n",
    "B0 = np.array([2, 3, 4])\n",
    "\n",
    "# TODO: more tests\n",
    "\n",
    "tests1 = [\n",
    "    {\n",
    "        'c': c0,\n",
    "        'A': A0,\n",
    "        'x': x0,\n",
    "        'b': b0,\n",
    "        'B': B0,\n",
    "    },\n",
    "]"
   ]
  },
  {
   "cell_type": "markdown",
   "metadata": {},
   "source": [
    "### Тестирование основной фазы симплекс метода"
   ]
  },
  {
   "cell_type": "code",
   "execution_count": 3,
   "metadata": {},
   "outputs": [
    {
     "name": "stdout",
     "output_type": "stream",
     "text": [
      "Test #1:\n",
      "\tScipy solution: [3.0, 2.0, 2.0, 0.0, 0.0]\n",
      "\tCustom algorithm solution: [3 2 2 0 0]\n"
     ]
    }
   ],
   "source": [
    "for i, test in enumerate(tests1):\n",
    "    print(f'Test #{i+1}:')\n",
    "    try:\n",
    "        solution = symplex.scipy_solve(test['c'], test['A'], test['b'])\n",
    "        x = [round(x, ROUND_DEC_POINTS) for x in solution.x]\n",
    "        print(f'\\tScipy solution: {x}')\n",
    "    except:\n",
    "        print('\\tScipy function failed')\n",
    "    try:\n",
    "        solution = main.run(test['c'], test['A'], test['x'], test['B'])\n",
    "        if solution['solved']:\n",
    "            print(f'\\tCustom algorithm solution: {solution.get(\"x\")}')\n",
    "        else:\n",
    "            print(f'\\tCustom algorithm failed; details:\\n\\t{solution.get(\"details\")}')\n",
    "    except Exception as e:\n",
    "        print(f'\\tCustom algorithm had an inner error\\n\\t{e}')"
   ]
  },
  {
   "cell_type": "markdown",
   "metadata": {},
   "source": [
    "### Тестирование начальной фазы симплекс метода"
   ]
  },
  {
   "cell_type": "code",
   "execution_count": 4,
   "metadata": {},
   "outputs": [],
   "source": [
    "tests2 = [\n",
    "    {\n",
    "        'c': [1, 0, 0],\n",
    "        'A': [[1, 1, 1], [2, 2, 2]],\n",
    "        'b': [0, 0]\n",
    "    },\n",
    "    {\n",
    "        'c': c0,\n",
    "        'A': A0,\n",
    "        'b': b0\n",
    "    },\n",
    "    {\n",
    "        'c': [-1, 1, 0],\n",
    "        'A': [[2, 1, 3], [1, -3, 1], [1, 11, 3]],\n",
    "        'b': [1, -3, 11]\n",
    "    }\n",
    "]"
   ]
  },
  {
   "cell_type": "code",
   "execution_count": 5,
   "metadata": {},
   "outputs": [
    {
     "name": "stdout",
     "output_type": "stream",
     "text": [
      "Test #1:\n",
      "\tCustom algorithm solution:\n",
      "\tx = [0. 0. 0.],\n",
      "\tB = [0],\n",
      "\tA:\n",
      "[[1 1 1]],\n",
      "\tb = [0]\n",
      "Test #2:\n",
      "\tCustom algorithm solution:\n",
      "\tx = [3. 2. 2. 0. 0.],\n",
      "\tB = [1, 2, 0],\n",
      "\tA:\n",
      "[[-1  1  1  0  0]\n",
      " [ 1  0  0  1  0]\n",
      " [ 0  1  0  0  1]],\n",
      "\tb = [1 3 2]\n",
      "Test #3:\n"
     ]
    },
    {
     "ename": "KeyboardInterrupt",
     "evalue": "",
     "output_type": "error",
     "traceback": [
      "\u001b[0;31m---------------------------------------------------------------------------\u001b[0m",
      "\u001b[0;31mKeyboardInterrupt\u001b[0m                         Traceback (most recent call last)",
      "\u001b[1;32m/home/krastsislau/Desktop/bsuir-six/maths-and-algorithms/sandbox.ipynb Cell 8'\u001b[0m in \u001b[0;36m<cell line: 1>\u001b[0;34m()\u001b[0m\n\u001b[1;32m      <a href='vscode-notebook-cell:/home/krastsislau/Desktop/bsuir-six/maths-and-algorithms/sandbox.ipynb#ch0000007?line=1'>2</a>\u001b[0m \u001b[39mprint\u001b[39m(\u001b[39mf\u001b[39m\u001b[39m'\u001b[39m\u001b[39mTest #\u001b[39m\u001b[39m{\u001b[39;00mi\u001b[39m+\u001b[39m\u001b[39m1\u001b[39m\u001b[39m}\u001b[39;00m\u001b[39m:\u001b[39m\u001b[39m'\u001b[39m)\n\u001b[1;32m      <a href='vscode-notebook-cell:/home/krastsislau/Desktop/bsuir-six/maths-and-algorithms/sandbox.ipynb#ch0000007?line=2'>3</a>\u001b[0m \u001b[39mtry\u001b[39;00m:\n\u001b[0;32m----> <a href='vscode-notebook-cell:/home/krastsislau/Desktop/bsuir-six/maths-and-algorithms/sandbox.ipynb#ch0000007?line=3'>4</a>\u001b[0m     solution \u001b[39m=\u001b[39m initial\u001b[39m.\u001b[39;49mrun(test[\u001b[39m'\u001b[39;49m\u001b[39mc\u001b[39;49m\u001b[39m'\u001b[39;49m], test[\u001b[39m'\u001b[39;49m\u001b[39mA\u001b[39;49m\u001b[39m'\u001b[39;49m], test[\u001b[39m'\u001b[39;49m\u001b[39mb\u001b[39;49m\u001b[39m'\u001b[39;49m])\n\u001b[1;32m      <a href='vscode-notebook-cell:/home/krastsislau/Desktop/bsuir-six/maths-and-algorithms/sandbox.ipynb#ch0000007?line=4'>5</a>\u001b[0m     \u001b[39mif\u001b[39;00m solution[\u001b[39m'\u001b[39m\u001b[39msuccess\u001b[39m\u001b[39m'\u001b[39m]:\n\u001b[1;32m      <a href='vscode-notebook-cell:/home/krastsislau/Desktop/bsuir-six/maths-and-algorithms/sandbox.ipynb#ch0000007?line=5'>6</a>\u001b[0m         \u001b[39mprint\u001b[39m(\u001b[39mf\u001b[39m\u001b[39m'\u001b[39m\u001b[39m\\t\u001b[39;00m\u001b[39mCustom algorithm solution:\u001b[39m\u001b[39m\\n\u001b[39;00m\u001b[39m\\t\u001b[39;00m\u001b[39mx = \u001b[39m\u001b[39m{\u001b[39;00msolution\u001b[39m.\u001b[39mget(\u001b[39m\"\u001b[39m\u001b[39mx\u001b[39m\u001b[39m\"\u001b[39m)\u001b[39m}\u001b[39;00m\u001b[39m,\u001b[39m\u001b[39m\\n\u001b[39;00m\u001b[39m\\t\u001b[39;00m\u001b[39mB = \u001b[39m\u001b[39m{\u001b[39;00msolution\u001b[39m.\u001b[39mget(\u001b[39m\"\u001b[39m\u001b[39mB\u001b[39m\u001b[39m\"\u001b[39m)\u001b[39m}\u001b[39;00m\u001b[39m,\u001b[39m\u001b[39m\\n\u001b[39;00m\u001b[39m\\t\u001b[39;00m\u001b[39mA:\u001b[39m\u001b[39m\\n\u001b[39;00m\u001b[39m{\u001b[39;00msolution\u001b[39m.\u001b[39mget(\u001b[39m\"\u001b[39m\u001b[39mA\u001b[39m\u001b[39m\"\u001b[39m)\u001b[39m}\u001b[39;00m\u001b[39m,\u001b[39m\u001b[39m\\n\u001b[39;00m\u001b[39m\\t\u001b[39;00m\u001b[39mb = \u001b[39m\u001b[39m{\u001b[39;00msolution\u001b[39m.\u001b[39mget(\u001b[39m\"\u001b[39m\u001b[39mb\u001b[39m\u001b[39m\"\u001b[39m)\u001b[39m}\u001b[39;00m\u001b[39m'\u001b[39m)\n",
      "File \u001b[0;32m~/Desktop/bsuir-six/maths-and-algorithms/symplexmethod/initial.py:135\u001b[0m, in \u001b[0;36mrun\u001b[0;34m(c, A, b)\u001b[0m\n\u001b[1;32m    <a href='file:///home/krastsislau/Desktop/bsuir-six/maths-and-algorithms/symplexmethod/initial.py?line=128'>129</a>\u001b[0m     \u001b[39mreturn\u001b[39;00m {\n\u001b[1;32m    <a href='file:///home/krastsislau/Desktop/bsuir-six/maths-and-algorithms/symplexmethod/initial.py?line=129'>130</a>\u001b[0m         \u001b[39m'\u001b[39m\u001b[39msuccess\u001b[39m\u001b[39m'\u001b[39m: \u001b[39mTrue\u001b[39;00m,\n\u001b[1;32m    <a href='file:///home/krastsislau/Desktop/bsuir-six/maths-and-algorithms/symplexmethod/initial.py?line=130'>131</a>\u001b[0m         \u001b[39m'\u001b[39m\u001b[39minconsistent\u001b[39m\u001b[39m'\u001b[39m: \u001b[39mTrue\u001b[39;00m,\n\u001b[1;32m    <a href='file:///home/krastsislau/Desktop/bsuir-six/maths-and-algorithms/symplexmethod/initial.py?line=131'>132</a>\u001b[0m     }\n\u001b[1;32m    <a href='file:///home/krastsislau/Desktop/bsuir-six/maths-and-algorithms/symplexmethod/initial.py?line=133'>134</a>\u001b[0m x_ast \u001b[39m=\u001b[39m y[:n]\n\u001b[0;32m--> <a href='file:///home/krastsislau/Desktop/bsuir-six/maths-and-algorithms/symplexmethod/initial.py?line=134'>135</a>\u001b[0m A, b, B \u001b[39m=\u001b[39m correcting_algorithm(c_wave, A, b, A_wave, B)\n\u001b[1;32m    <a href='file:///home/krastsislau/Desktop/bsuir-six/maths-and-algorithms/symplexmethod/initial.py?line=136'>137</a>\u001b[0m \u001b[39mreturn\u001b[39;00m {\n\u001b[1;32m    <a href='file:///home/krastsislau/Desktop/bsuir-six/maths-and-algorithms/symplexmethod/initial.py?line=137'>138</a>\u001b[0m     \u001b[39m'\u001b[39m\u001b[39msuccess\u001b[39m\u001b[39m'\u001b[39m: \u001b[39mTrue\u001b[39;00m,\n\u001b[1;32m    <a href='file:///home/krastsislau/Desktop/bsuir-six/maths-and-algorithms/symplexmethod/initial.py?line=138'>139</a>\u001b[0m     \u001b[39m'\u001b[39m\u001b[39minconsistent\u001b[39m\u001b[39m'\u001b[39m: \u001b[39mFalse\u001b[39;00m,\n\u001b[0;32m   (...)\u001b[0m\n\u001b[1;32m    <a href='file:///home/krastsislau/Desktop/bsuir-six/maths-and-algorithms/symplexmethod/initial.py?line=142'>143</a>\u001b[0m     \u001b[39m'\u001b[39m\u001b[39mB\u001b[39m\u001b[39m'\u001b[39m: B,\n\u001b[1;32m    <a href='file:///home/krastsislau/Desktop/bsuir-six/maths-and-algorithms/symplexmethod/initial.py?line=143'>144</a>\u001b[0m }\n",
      "File \u001b[0;32m~/Desktop/bsuir-six/maths-and-algorithms/symplexmethod/initial.py:51\u001b[0m, in \u001b[0;36mcorrecting_algorithm\u001b[0;34m(c_wave, A, b, A_wave, B)\u001b[0m\n\u001b[1;32m     <a href='file:///home/krastsislau/Desktop/bsuir-six/maths-and-algorithms/symplexmethod/initial.py?line=48'>49</a>\u001b[0m     \u001b[39mif\u001b[39;00m j \u001b[39m<\u001b[39m n:\n\u001b[1;32m     <a href='file:///home/krastsislau/Desktop/bsuir-six/maths-and-algorithms/symplexmethod/initial.py?line=49'>50</a>\u001b[0m         A_wave_j \u001b[39m=\u001b[39m A_wave[:, j]\n\u001b[0;32m---> <a href='file:///home/krastsislau/Desktop/bsuir-six/maths-and-algorithms/symplexmethod/initial.py?line=50'>51</a>\u001b[0m         l[j] \u001b[39m=\u001b[39m A_wave_b_inv \u001b[39m@\u001b[39;49m A_wave_j\n\u001b[1;32m     <a href='file:///home/krastsislau/Desktop/bsuir-six/maths-and-algorithms/symplexmethod/initial.py?line=52'>53</a>\u001b[0m \u001b[39m# 2 случая:\u001b[39;00m\n\u001b[1;32m     <a href='file:///home/krastsislau/Desktop/bsuir-six/maths-and-algorithms/symplexmethod/initial.py?line=53'>54</a>\u001b[0m \u001b[39m# 1: пусть найдется индекс j (небазисный) родной переменной,\u001b[39;00m\n\u001b[1;32m     <a href='file:///home/krastsislau/Desktop/bsuir-six/maths-and-algorithms/symplexmethod/initial.py?line=54'>55</a>\u001b[0m \u001b[39m#    такой, что k-ая компонента его вектора l не равна нулю:\u001b[39;00m\n\u001b[1;32m     <a href='file:///home/krastsislau/Desktop/bsuir-six/maths-and-algorithms/symplexmethod/initial.py?line=55'>56</a>\u001b[0m found_j \u001b[39m=\u001b[39m \u001b[39mFalse\u001b[39;00m\n",
      "\u001b[0;31mKeyboardInterrupt\u001b[0m: "
     ]
    }
   ],
   "source": [
    "for i, test in enumerate(tests2):\n",
    "    print(f'Test #{i+1}:')\n",
    "    try:\n",
    "        solution = initial.run(test['c'], test['A'], test['b'])\n",
    "        if solution['success']:\n",
    "            print(f'\\tCustom algorithm solution:\\n\\tx = {solution.get(\"x\")},\\n\\tB = {solution.get(\"B\")},\\n\\tA:\\n{solution.get(\"A\")},\\n\\tb = {solution.get(\"b\")}')\n",
    "        else:\n",
    "            print(f'\\tCustom algorithm failed; details:\\n\\t{solution.get(\"details\")}')\n",
    "    except Exception as e:\n",
    "        print(f'\\tCustom algorithm had an inner error:\\n\\t{e}')"
   ]
  },
  {
   "cell_type": "markdown",
   "metadata": {},
   "source": [
    "### Тестирование (полного алгоритма) симплекс метода"
   ]
  },
  {
   "cell_type": "code",
   "execution_count": null,
   "metadata": {},
   "outputs": [],
   "source": []
  }
 ],
 "metadata": {
  "interpreter": {
   "hash": "916dbcbb3f70747c44a77c7bcd40155683ae19c65e1c03b4aa3499c5328201f1"
  },
  "kernelspec": {
   "display_name": "Python 3.9.7 64-bit",
   "language": "python",
   "name": "python3"
  },
  "language_info": {
   "codemirror_mode": {
    "name": "ipython",
    "version": 3
   },
   "file_extension": ".py",
   "mimetype": "text/x-python",
   "name": "python",
   "nbconvert_exporter": "python",
   "pygments_lexer": "ipython3",
   "version": "3.9.7"
  },
  "orig_nbformat": 4
 },
 "nbformat": 4,
 "nbformat_minor": 2
}
