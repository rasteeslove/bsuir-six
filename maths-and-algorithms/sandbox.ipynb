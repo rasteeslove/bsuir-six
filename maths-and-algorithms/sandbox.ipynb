{
 "cells": [
  {
   "cell_type": "code",
   "execution_count": 4,
   "metadata": {},
   "outputs": [],
   "source": [
    "import numpy as np\n",
    "from symplexmethod import symplex\n",
    "\n",
    "ROUND_DEC_POINTS = 6 # for rounding"
   ]
  },
  {
   "cell_type": "code",
   "execution_count": 5,
   "metadata": {},
   "outputs": [],
   "source": [
    "# the first example\n",
    "c0 = np.array([1, 1, 0, 0, 0])\n",
    "A0 = np.array([[-1, 1, 1, 0, 0],\n",
    "              [1, 0, 0, 1, 0],\n",
    "              [0, 1, 0, 0, 1]])\n",
    "b0 = np.array([1, 3, 2])\n",
    "# x0 = np.array([0, 0, 1, 3, 2])\n",
    "# B = np.array([3, 4, 5])\n",
    "\n",
    "# TODO: more tests\n",
    "\n",
    "tests = [{\n",
    "    'c': c0,\n",
    "    'A': A0,\n",
    "    'b': b0,\n",
    "}]"
   ]
  },
  {
   "cell_type": "code",
   "execution_count": 6,
   "metadata": {},
   "outputs": [
    {
     "name": "stdout",
     "output_type": "stream",
     "text": [
      "Test #0:\n",
      "Scipy solution: [3.0, 2.0, 2.0, 0.0, 0.0]\n",
      "Custom algorithm solution: [3. 2. 2. 0. 0.]\n"
     ]
    }
   ],
   "source": [
    "for i, test in enumerate(tests):\n",
    "    print(f'Test #{i}:')\n",
    "    try:\n",
    "        solution = symplex.scipy_solve(test['c'], test['A'], test['b'])\n",
    "        x = [round(x, ROUND_DEC_POINTS) for x in solution.x]\n",
    "        print(f'Scipy solution: {x}')\n",
    "    except:\n",
    "        print('Scipy function failed')\n",
    "    try:\n",
    "        solution = symplex.custom_solve(test['c'], test['A'], test['b'])\n",
    "        print(f'Custom algorithm solution: {solution.get(\"x\")}')\n",
    "    except:\n",
    "        print('Custom algorithm failed')"
   ]
  },
  {
   "cell_type": "code",
   "execution_count": null,
   "metadata": {},
   "outputs": [],
   "source": []
  }
 ],
 "metadata": {
  "interpreter": {
   "hash": "916dbcbb3f70747c44a77c7bcd40155683ae19c65e1c03b4aa3499c5328201f1"
  },
  "kernelspec": {
   "display_name": "Python 3.9.7 64-bit",
   "language": "python",
   "name": "python3"
  },
  "language_info": {
   "codemirror_mode": {
    "name": "ipython",
    "version": 3
   },
   "file_extension": ".py",
   "mimetype": "text/x-python",
   "name": "python",
   "nbconvert_exporter": "python",
   "pygments_lexer": "ipython3",
   "version": "3.9.7"
  },
  "orig_nbformat": 4
 },
 "nbformat": 4,
 "nbformat_minor": 2
}
