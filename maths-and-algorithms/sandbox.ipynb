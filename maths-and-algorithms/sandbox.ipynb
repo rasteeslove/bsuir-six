{
 "cells": [
  {
   "cell_type": "markdown",
   "metadata": {},
   "source": [
    "# Симплекс-метод"
   ]
  },
  {
   "cell_type": "code",
   "execution_count": 1,
   "metadata": {},
   "outputs": [],
   "source": [
    "import numpy as np\n",
    "from symplexmethod import symplex, main, initial, dual\n",
    "from transportproblem import transport_problem\n",
    "\n",
    "ROUND_DEC_POINTS = 6 # for rounding"
   ]
  },
  {
   "cell_type": "code",
   "execution_count": 2,
   "metadata": {},
   "outputs": [],
   "source": [
    "# the first example\n",
    "c0 = np.array([1, 1, 0, 0, 0])\n",
    "A0 = np.array([[-1, 1, 1, 0, 0],\n",
    "              [1, 0, 0, 1, 0],\n",
    "              [0, 1, 0, 0, 1]])\n",
    "b0 = np.array([1, 3, 2])\n",
    "x0 = np.array([0, 0, 1, 3, 2])\n",
    "B0 = np.array([2, 3, 4])\n",
    "\n",
    "# TODO: more tests\n",
    "\n",
    "tests1 = [\n",
    "    {\n",
    "        'c': c0,\n",
    "        'A': A0,\n",
    "        'x': x0,\n",
    "        'b': b0,\n",
    "        'B': B0,\n",
    "    },\n",
    "]"
   ]
  },
  {
   "cell_type": "markdown",
   "metadata": {},
   "source": [
    "### Тестирование основной фазы симплекс-метода\n",
    "\n",
    "Сравнение результатов вызова полного симплекс-метода, реализованного в `scipy`, принимающего параметры ЗЛП 1: `c`, `A` и `b` (каноническая форма), с результатами вызова моего алгоритма основной фазы симплекс-метода для исходных данных `c`, `A`, `x` (начальный базисный допустимый план) и `B` (вектор базисных индексов), соответствующих ЗЛП 1."
   ]
  },
  {
   "cell_type": "code",
   "execution_count": 3,
   "metadata": {},
   "outputs": [
    {
     "name": "stdout",
     "output_type": "stream",
     "text": [
      "TEST #1:\n",
      "\tSCIPY:\n",
      "\t\tx = [3.0, 2.0, 2.0, 0.0, 0.0]\n",
      "\tCUSTOM:\n",
      "\t\t- bound\n",
      "\t\t- x = [3 2 2 0 0]\n",
      "\n"
     ]
    }
   ],
   "source": [
    "for i, test in enumerate(tests1):\n",
    "    print(f'TEST #{i+1}:')\n",
    "    print('\\tSCIPY:')\n",
    "\n",
    "    try:\n",
    "        solution = symplex.scipy_solve(test['c'], test['A'], test['b'])\n",
    "        x = [round(x, ROUND_DEC_POINTS) for x in solution.x]\n",
    "        print(f'\\t\\tx = {x}')\n",
    "    except:\n",
    "        print('\\t\\t[ERROR]')\n",
    "\n",
    "    print('\\tCUSTOM:')\n",
    "    try:\n",
    "        solution = main.run(test['c'], test['A'], test['x'], test['B'])\n",
    "        if solution['solved']:\n",
    "            if solution['unbound']:\n",
    "                print('\\t\\t- unbound')\n",
    "            else:\n",
    "                print('\\t\\t- bound')\n",
    "                x = solution['x']\n",
    "                print(f'\\t\\t- x = {x}')\n",
    "        else:\n",
    "            details = solution.get('details')\n",
    "            print('\\t\\t[FAILURE]; details:')\n",
    "            if details:\n",
    "                for line in details:\n",
    "                    print(f'\\t\\t\\t{line}')\n",
    "            else:\n",
    "                print('\\t\\t\\t(no details)')\n",
    "    except Exception as e:\n",
    "        print(f'\\t\\t[ERROR]: {e}')\n",
    "    print()"
   ]
  },
  {
   "cell_type": "markdown",
   "metadata": {},
   "source": [
    "### Тестирование начальной фазы симплекс-метода"
   ]
  },
  {
   "cell_type": "code",
   "execution_count": 4,
   "metadata": {},
   "outputs": [],
   "source": [
    "tests2 = [\n",
    "    {\n",
    "        'c': [1, 0, 0],\n",
    "        'A': [[-1, -1, -1], [-2, -2, -2]],\n",
    "        'b': [-10, -20]\n",
    "    },\n",
    "    {\n",
    "        'c': c0,\n",
    "        'A': A0,\n",
    "        'b': b0\n",
    "    },\n",
    "    {\n",
    "        'c': [-1, 1, 0],\n",
    "        'A': [[2, 1, 3],\n",
    "              [1, -3, 1],\n",
    "              [1, 11, 3]],\n",
    "        'b': [1, -3, 11]\n",
    "    },\n",
    "    {\n",
    "        'c': '',\n",
    "        'A': [[-4, -3, -2, 1, 0, 0],\n",
    "              [-3, -2, -1, 0, 1, 0],\n",
    "              [-1, -1, -2, 0, 0, 1]],\n",
    "        'b': [-33, -23, -12]\n",
    "    }\n",
    "]"
   ]
  },
  {
   "cell_type": "code",
   "execution_count": 5,
   "metadata": {
    "tags": []
   },
   "outputs": [
    {
     "name": "stdout",
     "output_type": "stream",
     "text": [
      "TEST #1:\n",
      "\t- feasible\n",
      "\t- x = [10.  0.  0.]\n",
      "\t- B = [0]\n",
      "\t- A:\n",
      "\t\t[1 1 1]\n",
      "\t- b = [10]\n",
      "TEST #2:\n",
      "\t- feasible\n",
      "\t- x = [3. 2. 2. 0. 0.]\n",
      "\t- B = [1, 2, 0]\n",
      "\t- A:\n",
      "\t\t[-1  1  1  0  0]\n",
      "\t\t[1 0 0 1 0]\n",
      "\t\t[0 1 0 0 1]\n",
      "\t- b = [1 3 2]\n",
      "TEST #3:\n",
      "\t- feasible\n",
      "\t- x = [0. 1. 0.]\n",
      "\t- B = [1 0]\n",
      "\t- A:\n",
      "\t\t[2 1 3]\n",
      "\t\t[-1  3 -1]\n",
      "\t- b = [1 3]\n",
      "TEST #4:\n",
      "\t- feasible\n",
      "\t- x = [5. 3. 2. 0. 0. 0.]\n",
      "\t- B = [1, 0, 2]\n",
      "\t- A:\n",
      "\t\t[4, 3, 2, -1, 0, 0]\n",
      "\t\t[3, 2, 1, 0, -1, 0]\n",
      "\t\t[1, 1, 2, 0, 0, -1]\n",
      "\t- b = [33, 23, 12]\n"
     ]
    }
   ],
   "source": [
    "for i, test in enumerate(tests2):\n",
    "    print(f'TEST #{i+1}:')\n",
    "\n",
    "    try:\n",
    "        solution = initial.run(test['c'], test['A'], test['b'])\n",
    "        if solution['success']:\n",
    "            if solution['infeasible']:\n",
    "                print('\\t- infeasible')\n",
    "            else:\n",
    "                print('\\t- feasible')\n",
    "                x = solution['x']\n",
    "                print(f'\\t- x = {x}')\n",
    "                B = solution['B']\n",
    "                print(f'\\t- B = {B}')\n",
    "                A = solution['A']\n",
    "                print('\\t- A:')\n",
    "                for row in A:\n",
    "                    print(f'\\t\\t{row}')\n",
    "                b = solution['b']\n",
    "                print(f'\\t- b = {b}')\n",
    "        else:\n",
    "            details = solution.get('details')\n",
    "            print('\\t[FAILURE]; details:')\n",
    "            if details:\n",
    "                for line in details:\n",
    "                    print(f'\\t\\t{line}')\n",
    "            else:\n",
    "                print('\\t\\t(no details)')\n",
    "    except Exception as e:\n",
    "        print(f'\\t\\t[ERROR]: {e}')"
   ]
  },
  {
   "cell_type": "markdown",
   "metadata": {},
   "source": [
    "### Тестирование двойственого симплекс-метода"
   ]
  },
  {
   "cell_type": "code",
   "execution_count": 12,
   "metadata": {},
   "outputs": [],
   "source": [
    "tests3 = [\n",
    "    {\n",
    "        'c': np.array([-4, -3, -7, 0, 0]),\n",
    "        'A': np.array([[-2, -1, -4, 1, 0],\n",
    "                       [-2, -2, -2, 0, 1]]),\n",
    "        'b': np.array([-1, -1.5]),\n",
    "        'B': np.array([3, 4])\n",
    "    },\n",
    "    # the following tests by https://github.com/UnstoppableGuy :\n",
    "    {\n",
    "        'c': np.array([2, 2, 1, -10, 1, 4, -2, -3]),\n",
    "        'A': np.array([[-2, -1, 1, -7, 0, 0, 0, 2],\n",
    "                       [4, 2, 1, 0, 1, 5, -1, -5],\n",
    "                       [1, 1, 0, -1, 0, 3, -1, 1]]),\n",
    "        'b': np.array([-2, 4, 3]),\n",
    "        'B': np.array([1, 4, 6])\n",
    "    },\n",
    "    {\n",
    "        'c': np.array([12, -2, -6, 20, -18, -5, -7, -20]),\n",
    "        'A': np.array([[-2, -1, 1, -7, 0, 0, 0, 2],\n",
    "                       [-4, 2, 1, 0, 1, 5, -1, 5],\n",
    "                       [1, 1, 0, 1, 4, 3, 1, 1]]),\n",
    "        'b': np.array([-2, 8, -2]),\n",
    "        'B': np.array([1, 3, 5])\n",
    "    },\n",
    "    {\n",
    "        'c': np.array([10, -2, -38, 16, -9, -9, -5, -7]),\n",
    "        'A': np.array([[-2, -1, 10, -7, 1, 0, 0, 2],\n",
    "                       [-4, 2, 3, 0, 5, 1, -1, 0],\n",
    "                       [1, 1, 0, 1, -4, 3, -1, 1]]),\n",
    "        'b': np.array([-2, -5, 2]),\n",
    "        'B': np.array([1, 7, 4])\n",
    "    }\n",
    "]"
   ]
  },
  {
   "cell_type": "code",
   "execution_count": 13,
   "metadata": {},
   "outputs": [
    {
     "name": "stdout",
     "output_type": "stream",
     "text": [
      "TEST #1:\n",
      "\t- feasible\n",
      "\t- kappa = [0.25, 0.5, 0.0, 0.0, 0.0]\n",
      "\t- kappa = [0.25, 0.5, 0.0, 0.0, 0.0] (scipy)\n",
      "\t- y = [1. 1.]\n",
      "\t- B = [1 0]\n",
      "TEST #2:\n",
      "\t- feasible\n",
      "\t- kappa = [0.0, 2.666667, 0.0, 0.0, 0.333333, 0.0, 0.0, 0.333333]\n",
      "\t- kappa = [0.0, 2.666667, 0.0, 0.0, 0.333333, 0.0, 0.0, 0.333333] (scipy)\n",
      "\t- y = [0.66666667 1.         0.66666667]\n",
      "\t- B = [1 7 4]\n",
      "TEST #3:\n",
      "\t- infeasible\n",
      "\t- scipy: The algorithm terminated successfully and determined that the problem is infeasible.\n",
      "TEST #4:\n",
      "\t- feasible\n",
      "\t- kappa = [1.35, 0.2, 0.0, 0.0, 0.0, 0.0, 0.0, 0.45]\n",
      "\t- kappa = [1.35, 0.2, 0.0, 0.0, 0.0, 0.0, 0.0, 0.45] (scipy)\n",
      "\t- y = [-2.7  -1.55 -1.6 ]\n",
      "\t- B = [1 7 0]\n"
     ]
    }
   ],
   "source": [
    "for i, test in enumerate(tests3):\n",
    "    print(f'TEST #{i+1}:')\n",
    "\n",
    "    try:\n",
    "        solution = dual.run(test['c'], test['A'], test['b'], test['B'])\n",
    "        scipy_solution = symplex.scipy_solve(test['c'], test['A'], test['b'])\n",
    "        if solution['solved']:\n",
    "            if solution['infeasible']:\n",
    "                print('\\t- infeasible')\n",
    "                print(f'\\t- scipy: {scipy_solution.message}')\n",
    "            else:\n",
    "                print('\\t- feasible')\n",
    "                kappa = [round (x, ROUND_DEC_POINTS) for x in solution['kappa']]\n",
    "                print(f'\\t- kappa = {kappa}')\n",
    "                scipy_kappa = [round(x, ROUND_DEC_POINTS) for x in scipy_solution.x]\n",
    "                print(f'\\t- kappa = {scipy_kappa} (scipy)')\n",
    "                y = solution['y']\n",
    "                print(f'\\t- y = {y}')\n",
    "                B = solution['B']\n",
    "                print(f'\\t- B = {B}')\n",
    "        else:\n",
    "            print('\\t[FAILURE]')\n",
    "    except Exception as e:\n",
    "        print(f'\\t\\t[ERROR]: {e}')"
   ]
  },
  {
   "cell_type": "markdown",
   "metadata": {},
   "source": [
    "### Тестирование решения транспортной задачи"
   ]
  },
  {
   "cell_type": "code",
   "execution_count": 8,
   "metadata": {},
   "outputs": [],
   "source": [
    "tests4 = [\n",
    "    {\n",
    "        'a': np.array([100, 300, 300]),\n",
    "        'b': np.array([300, 200, 200]),\n",
    "        'C': np.array([[8, 4, 1],\n",
    "                       [8, 4, 3],\n",
    "                       [9, 7, 5]])\n",
    "    },\n",
    "    \n",
    "]"
   ]
  },
  {
   "cell_type": "code",
   "execution_count": 9,
   "metadata": {},
   "outputs": [
    {
     "name": "stdout",
     "output_type": "stream",
     "text": [
      "TEST #1:\n",
      "\t- X:\n",
      "\t\t[100.   0.   0.]\n",
      "\t\t[200. 100.   0.]\n",
      "\t\t[  0. 100. 200.]\n",
      "\t- B = [(0, 0), (1, 0), (1, 1), (2, 1), (2, 2)]\n"
     ]
    }
   ],
   "source": [
    "for i, test in enumerate(tests4):\n",
    "    print(f'TEST #{i+1}:')\n",
    "\n",
    "    try:\n",
    "        X, B = transport_problem.nw_corner_method(test['a'], test['b'])\n",
    "        print(f'\\t- X:')\n",
    "        print('\\t\\t', end='')\n",
    "        print('\\n\\t\\t'.join([str(line) for line in X]))\n",
    "        print(f'\\t- B = {B}')\n",
    "    except Exception as e:\n",
    "        print(f'\\t\\t[ERROR]: {e}')"
   ]
  }
 ],
 "metadata": {
  "interpreter": {
   "hash": "f92b2924b84ff19c1c3dc485f7644d4486f64738191026bf8e6de303969141b5"
  },
  "kernelspec": {
   "display_name": "moiu_kernel",
   "language": "python",
   "name": "moiu_kernel"
  },
  "language_info": {
   "codemirror_mode": {
    "name": "ipython",
    "version": 3
   },
   "file_extension": ".py",
   "mimetype": "text/x-python",
   "name": "python",
   "nbconvert_exporter": "python",
   "pygments_lexer": "ipython3",
   "version": "3.9.7"
  }
 },
 "nbformat": 4,
 "nbformat_minor": 4
}
