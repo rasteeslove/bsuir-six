{
 "cells": [
  {
   "cell_type": "markdown",
   "metadata": {},
   "source": [
    "# Симплекс-метод"
   ]
  },
  {
   "cell_type": "code",
   "execution_count": 1,
   "metadata": {},
   "outputs": [],
   "source": [
    "import numpy as np\n",
    "from symplexmethod import symplex, main, initial, dual\n",
    "\n",
    "ROUND_DEC_POINTS = 6 # for rounding"
   ]
  },
  {
   "cell_type": "code",
   "execution_count": 2,
   "metadata": {},
   "outputs": [],
   "source": [
    "# the first example\n",
    "c0 = np.array([1, 1, 0, 0, 0])\n",
    "A0 = np.array([[-1, 1, 1, 0, 0],\n",
    "              [1, 0, 0, 1, 0],\n",
    "              [0, 1, 0, 0, 1]])\n",
    "b0 = np.array([1, 3, 2])\n",
    "x0 = np.array([0, 0, 1, 3, 2])\n",
    "B0 = np.array([2, 3, 4])\n",
    "\n",
    "# TODO: more tests\n",
    "\n",
    "tests1 = [\n",
    "    {\n",
    "        'c': c0,\n",
    "        'A': A0,\n",
    "        'x': x0,\n",
    "        'b': b0,\n",
    "        'B': B0,\n",
    "    },\n",
    "]"
   ]
  },
  {
   "cell_type": "markdown",
   "metadata": {},
   "source": [
    "### Тестирование основной фазы симплекс-метода\n",
    "\n",
    "Сравнение результатов вызова полного симплекс-метода, реализованного в `scipy`, принимающего параметры ЗЛП 1: `c`, `A` и `b` (каноническая форма), с результатами вызова моего алгоритма основной фазы симплекс-метода для исходных данных `c`, `A`, `x` (начальный базисный допустимый план) и `B` (вектор базисных индексов), соответствующих ЗЛП 1."
   ]
  },
  {
   "cell_type": "code",
   "execution_count": 3,
   "metadata": {},
   "outputs": [
    {
     "name": "stdout",
     "output_type": "stream",
     "text": [
      "TEST #1:\n",
      "\tSCIPY:\n",
      "\t\tx = [3.0, 2.0, 2.0, 0.0, 0.0]\n",
      "\tCUSTOM:\n",
      "\t\t- bound\n",
      "\t\t- x = [3 2 2 0 0]\n",
      "\n"
     ]
    }
   ],
   "source": [
    "for i, test in enumerate(tests1):\n",
    "    print(f'TEST #{i+1}:')\n",
    "    print('\\tSCIPY:')\n",
    "\n",
    "    try:\n",
    "        solution = symplex.scipy_solve(test['c'], test['A'], test['b'])\n",
    "        x = [round(x, ROUND_DEC_POINTS) for x in solution.x]\n",
    "        print(f'\\t\\tx = {x}')\n",
    "    except:\n",
    "        print('\\t\\t[ERROR]')\n",
    "\n",
    "    print('\\tCUSTOM:')\n",
    "    try:\n",
    "        solution = main.run(test['c'], test['A'], test['x'], test['B'])\n",
    "        if solution['solved']:\n",
    "            if solution['unbound']:\n",
    "                print('\\t\\t- unbound')\n",
    "            else:\n",
    "                print('\\t\\t- bound')\n",
    "                x = solution['x']\n",
    "                print(f'\\t\\t- x = {x}')\n",
    "        else:\n",
    "            details = solution.get('details')\n",
    "            print('\\t\\t[FAILURE]; details:')\n",
    "            if details:\n",
    "                for line in details:\n",
    "                    print(f'\\t\\t\\t{line}')\n",
    "            else:\n",
    "                print('\\t\\t\\t(no details)')\n",
    "    except Exception as e:\n",
    "        print(f'\\t\\t[ERROR]: {e}')\n",
    "    print()"
   ]
  },
  {
   "cell_type": "markdown",
   "metadata": {},
   "source": [
    "### Тестирование начальной фазы симплекс-метода"
   ]
  },
  {
   "cell_type": "code",
   "execution_count": 4,
   "metadata": {},
   "outputs": [],
   "source": [
    "tests2 = [\n",
    "    {\n",
    "        'c': [1, 0, 0],\n",
    "        'A': [[-1, -1, -1], [-2, -2, -2]],\n",
    "        'b': [-10, -20]\n",
    "    },\n",
    "    {\n",
    "        'c': c0,\n",
    "        'A': A0,\n",
    "        'b': b0\n",
    "    },\n",
    "    {\n",
    "        'c': [-1, 1, 0],\n",
    "        'A': [[2, 1, 3],\n",
    "              [1, -3, 1],\n",
    "              [1, 11, 3]],\n",
    "        'b': [1, -3, 11]\n",
    "    }\n",
    "]"
   ]
  },
  {
   "cell_type": "code",
   "execution_count": 5,
   "metadata": {},
   "outputs": [
    {
     "name": "stdout",
     "output_type": "stream",
     "text": [
      "TEST #1:\n",
      "\t- feasible\n",
      "\t- x = [10.  0.  0.]\n",
      "\t- B = [0]\n",
      "\t- A:\n",
      "\t\t[1 1 1]\n",
      "\t- b = [10]\n",
      "TEST #2:\n",
      "\t- feasible\n",
      "\t- x = [3. 2. 2. 0. 0.]\n",
      "\t- B = [1, 2, 0]\n",
      "\t- A:\n",
      "\t\t[-1  1  1  0  0]\n",
      "\t\t[1 0 0 1 0]\n",
      "\t\t[0 1 0 0 1]\n",
      "\t- b = [1 3 2]\n",
      "TEST #3:\n",
      "\t- feasible\n",
      "\t- x = [0. 1. 0.]\n",
      "\t- B = [1 0]\n",
      "\t- A:\n",
      "\t\t[2 1 3]\n",
      "\t\t[-1  3 -1]\n",
      "\t- b = [1 3]\n"
     ]
    }
   ],
   "source": [
    "for i, test in enumerate(tests2):\n",
    "    print(f'TEST #{i+1}:')\n",
    "\n",
    "    try:\n",
    "        solution = initial.run(test['c'], test['A'], test['b'])\n",
    "        if solution['success']:\n",
    "            if solution['infeasible']:\n",
    "                print('\\t- infeasible')\n",
    "            else:\n",
    "                print('\\t- feasible')\n",
    "                x = solution['x']\n",
    "                print(f'\\t- x = {x}')\n",
    "                B = solution['B']\n",
    "                print(f'\\t- B = {B}')\n",
    "                A = solution['A']\n",
    "                print('\\t- A:')\n",
    "                for row in A:\n",
    "                    print(f'\\t\\t{row}')\n",
    "                b = solution['b']\n",
    "                print(f'\\t- b = {b}')\n",
    "        else:\n",
    "            details = solution.get('details')\n",
    "            print('\\t[FAILURE]; details:')\n",
    "            if details:\n",
    "                for line in details:\n",
    "                    print(f'\\t\\t{line}')\n",
    "            else:\n",
    "                print('\\t\\t(no details)')\n",
    "    except Exception as e:\n",
    "        print(f'\\t\\t[ERROR]: {e}')"
   ]
  },
  {
   "cell_type": "markdown",
   "metadata": {},
   "source": [
    "### Тестирование двойственого симплекс-метода"
   ]
  },
  {
   "cell_type": "code",
   "execution_count": 6,
   "metadata": {},
   "outputs": [],
   "source": [
    "tests3 = [\n",
    "    {\n",
    "        'c': np.array([-4, -3, -7, 0, 0]),\n",
    "        'A': np.array([[-2, -1, -4, 1, 0],\n",
    "                       [-2, -2, -2, 0, 1]]),\n",
    "        'b': np.array([-1, -1.5]),\n",
    "        'B': np.array([3, 4])\n",
    "    },\n",
    "]"
   ]
  },
  {
   "cell_type": "code",
   "execution_count": 8,
   "metadata": {},
   "outputs": [
    {
     "name": "stdout",
     "output_type": "stream",
     "text": [
      "TEST #1:\n",
      "\t[FAILURE]\n"
     ]
    }
   ],
   "source": [
    "for i, test in enumerate(tests3):\n",
    "    print(f'TEST #{i+1}:')\n",
    "\n",
    "    try:\n",
    "        solution = dual.run(test['c'], test['A'], test['b'], test['B'])\n",
    "        if solution['solved']:\n",
    "            if solution['infeasible']:\n",
    "                print('\\t- infeasible')\n",
    "            else:\n",
    "                print('\\t- feasible')\n",
    "                kappa = solution['kappa']\n",
    "                print(f'\\t- kappa = {kappa}')\n",
    "                y = solution['y']\n",
    "                print(f'\\t- y = {y}')\n",
    "                B = solution['B']\n",
    "                print(f'\\t- B = {B}')\n",
    "        else:\n",
    "            print('\\t[FAILURE]')\n",
    "    except Exception as e:\n",
    "        print(f'\\t\\t[ERROR]: {e}')"
   ]
  }
 ],
 "metadata": {
  "interpreter": {
   "hash": "916dbcbb3f70747c44a77c7bcd40155683ae19c65e1c03b4aa3499c5328201f1"
  },
  "kernelspec": {
   "display_name": "Python 3.9.7 64-bit",
   "language": "python",
   "name": "python3"
  },
  "language_info": {
   "codemirror_mode": {
    "name": "ipython",
    "version": 3
   },
   "file_extension": ".py",
   "mimetype": "text/x-python",
   "name": "python",
   "nbconvert_exporter": "python",
   "pygments_lexer": "ipython3",
   "version": "3.9.7"
  },
  "orig_nbformat": 4
 },
 "nbformat": 4,
 "nbformat_minor": 2
}
