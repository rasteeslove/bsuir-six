{
 "cells": [
  {
   "cell_type": "markdown",
   "metadata": {},
   "source": [
    "# Симплекс метод"
   ]
  },
  {
   "cell_type": "code",
   "execution_count": 1,
   "metadata": {},
   "outputs": [],
   "source": [
    "import numpy as np\n",
    "from symplexmethod import symplex, main\n",
    "\n",
    "ROUND_DEC_POINTS = 6 # for rounding"
   ]
  },
  {
   "cell_type": "markdown",
   "metadata": {},
   "source": [
    "### Тестирование основной фазы симплекс метода"
   ]
  },
  {
   "cell_type": "code",
   "execution_count": 2,
   "metadata": {},
   "outputs": [],
   "source": [
    "# the first example\n",
    "c0 = np.array([1, 1, 0, 0, 0])\n",
    "A0 = np.array([[-1, 1, 1, 0, 0],\n",
    "              [1, 0, 0, 1, 0],\n",
    "              [0, 1, 0, 0, 1]])\n",
    "b0 = np.array([1, 3, 2])\n",
    "x0 = np.array([0, 0, 1, 3, 2])\n",
    "B0 = np.array([2, 3, 4])\n",
    "\n",
    "# TODO: more tests\n",
    "\n",
    "main_phase_tests = [\n",
    "    {\n",
    "        'c': c0,\n",
    "        'A': A0,\n",
    "        'x': x0,\n",
    "        'b': b0,\n",
    "        'B': B0,\n",
    "    },\n",
    "]"
   ]
  },
  {
   "cell_type": "code",
   "execution_count": 3,
   "metadata": {},
   "outputs": [
    {
     "name": "stdout",
     "output_type": "stream",
     "text": [
      "Test #0:\n",
      "\tScipy solution: [3.0, 2.0, 2.0, 0.0, 0.0]\n",
      "\tCustom algorithm solution: [3 2 2 0 0]\n"
     ]
    }
   ],
   "source": [
    "for i, test in enumerate(main_phase_tests):\n",
    "    print(f'Test #{i}:')\n",
    "    try:\n",
    "        solution = symplex.scipy_solve(test['c'], test['A'], test['b'])\n",
    "        x = [round(x, ROUND_DEC_POINTS) for x in solution.x]\n",
    "        print(f'\\tScipy solution: {x}')\n",
    "    except:\n",
    "        print('\\tScipy function failed')\n",
    "    try:\n",
    "        solution = main.run(test['c'], test['A'], test['x'], test['B'])\n",
    "        print(f'\\tCustom algorithm solution: {solution.get(\"x\")}')\n",
    "    except:\n",
    "        print('\\tCustom algorithm failed')"
   ]
  },
  {
   "cell_type": "code",
   "execution_count": null,
   "metadata": {},
   "outputs": [],
   "source": []
  },
  {
   "cell_type": "markdown",
   "metadata": {},
   "source": [
    "### Тестирование полного симплекс метода"
   ]
  },
  {
   "cell_type": "code",
   "execution_count": null,
   "metadata": {},
   "outputs": [],
   "source": []
  }
 ],
 "metadata": {
  "interpreter": {
   "hash": "916dbcbb3f70747c44a77c7bcd40155683ae19c65e1c03b4aa3499c5328201f1"
  },
  "kernelspec": {
   "display_name": "Python 3.9.7 64-bit",
   "language": "python",
   "name": "python3"
  },
  "language_info": {
   "codemirror_mode": {
    "name": "ipython",
    "version": 3
   },
   "file_extension": ".py",
   "mimetype": "text/x-python",
   "name": "python",
   "nbconvert_exporter": "python",
   "pygments_lexer": "ipython3",
   "version": "3.9.7"
  },
  "orig_nbformat": 4
 },
 "nbformat": 4,
 "nbformat_minor": 2
}
